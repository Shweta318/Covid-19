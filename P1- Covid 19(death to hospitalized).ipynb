{
 "cells": [
  {
   "cell_type": "code",
   "execution_count": 25,
   "metadata": {},
   "outputs": [],
   "source": [
    "import pandas as pd\n"
   ]
  },
  {
   "cell_type": "code",
   "execution_count": 26,
   "metadata": {},
   "outputs": [],
   "source": [
    "df=pd.read_csv(\"covid us states.csv\")"
   ]
  },
  {
   "cell_type": "markdown",
   "metadata": {},
   "source": [
    "df.head()"
   ]
  },
  {
   "cell_type": "markdown",
   "metadata": {},
   "source": [
    "df.shape"
   ]
  },
  {
   "cell_type": "markdown",
   "metadata": {},
   "source": [
    "list(df.columns)"
   ]
  },
  {
   "cell_type": "code",
   "execution_count": 42,
   "metadata": {},
   "outputs": [
    {
     "data": {
      "text/html": [
       "<div>\n",
       "<style scoped>\n",
       "    .dataframe tbody tr th:only-of-type {\n",
       "        vertical-align: middle;\n",
       "    }\n",
       "\n",
       "    .dataframe tbody tr th {\n",
       "        vertical-align: top;\n",
       "    }\n",
       "\n",
       "    .dataframe thead th {\n",
       "        text-align: right;\n",
       "    }\n",
       "</style>\n",
       "<table border=\"1\" class=\"dataframe\">\n",
       "  <thead>\n",
       "    <tr style=\"text-align: right;\">\n",
       "      <th></th>\n",
       "      <th>positive</th>\n",
       "      <th>positiveScore</th>\n",
       "      <th>negativeScore</th>\n",
       "      <th>negativeRegularScore</th>\n",
       "      <th>commercialScore</th>\n",
       "      <th>score</th>\n",
       "      <th>negative</th>\n",
       "      <th>pending</th>\n",
       "      <th>hospitalized</th>\n",
       "      <th>death</th>\n",
       "      <th>total</th>\n",
       "      <th>totalTestResults</th>\n",
       "      <th>fips</th>\n",
       "    </tr>\n",
       "  </thead>\n",
       "  <tbody>\n",
       "    <tr>\n",
       "      <th>count</th>\n",
       "      <td>56.000000</td>\n",
       "      <td>52.0</td>\n",
       "      <td>52.0</td>\n",
       "      <td>52.000000</td>\n",
       "      <td>52.000000</td>\n",
       "      <td>52.000000</td>\n",
       "      <td>54.000000</td>\n",
       "      <td>12.000000</td>\n",
       "      <td>36.000000</td>\n",
       "      <td>54.000000</td>\n",
       "      <td>56.000000</td>\n",
       "      <td>56.000000</td>\n",
       "      <td>56.000000</td>\n",
       "    </tr>\n",
       "    <tr>\n",
       "      <th>mean</th>\n",
       "      <td>2111.321429</td>\n",
       "      <td>1.0</td>\n",
       "      <td>1.0</td>\n",
       "      <td>0.846154</td>\n",
       "      <td>0.750000</td>\n",
       "      <td>3.596154</td>\n",
       "      <td>11434.629630</td>\n",
       "      <td>5476.000000</td>\n",
       "      <td>464.694444</td>\n",
       "      <td>36.388889</td>\n",
       "      <td>14311.000000</td>\n",
       "      <td>13137.571429</td>\n",
       "      <td>32.535714</td>\n",
       "    </tr>\n",
       "    <tr>\n",
       "      <th>std</th>\n",
       "      <td>7072.655246</td>\n",
       "      <td>0.0</td>\n",
       "      <td>0.0</td>\n",
       "      <td>0.364321</td>\n",
       "      <td>0.437237</td>\n",
       "      <td>0.602596</td>\n",
       "      <td>16195.776603</td>\n",
       "      <td>18557.670612</td>\n",
       "      <td>1664.277257</td>\n",
       "      <td>103.266173</td>\n",
       "      <td>24595.067304</td>\n",
       "      <td>22432.365240</td>\n",
       "      <td>19.075891</td>\n",
       "    </tr>\n",
       "    <tr>\n",
       "      <th>min</th>\n",
       "      <td>0.000000</td>\n",
       "      <td>1.0</td>\n",
       "      <td>1.0</td>\n",
       "      <td>0.000000</td>\n",
       "      <td>0.000000</td>\n",
       "      <td>2.000000</td>\n",
       "      <td>36.000000</td>\n",
       "      <td>0.000000</td>\n",
       "      <td>1.000000</td>\n",
       "      <td>0.000000</td>\n",
       "      <td>0.000000</td>\n",
       "      <td>0.000000</td>\n",
       "      <td>1.000000</td>\n",
       "    </tr>\n",
       "    <tr>\n",
       "      <th>25%</th>\n",
       "      <td>190.000000</td>\n",
       "      <td>1.0</td>\n",
       "      <td>1.0</td>\n",
       "      <td>1.000000</td>\n",
       "      <td>0.750000</td>\n",
       "      <td>3.000000</td>\n",
       "      <td>2646.250000</td>\n",
       "      <td>0.750000</td>\n",
       "      <td>23.250000</td>\n",
       "      <td>2.000000</td>\n",
       "      <td>2834.000000</td>\n",
       "      <td>2834.000000</td>\n",
       "      <td>17.750000</td>\n",
       "    </tr>\n",
       "    <tr>\n",
       "      <th>50%</th>\n",
       "      <td>509.000000</td>\n",
       "      <td>1.0</td>\n",
       "      <td>1.0</td>\n",
       "      <td>1.000000</td>\n",
       "      <td>1.000000</td>\n",
       "      <td>4.000000</td>\n",
       "      <td>7142.000000</td>\n",
       "      <td>13.500000</td>\n",
       "      <td>93.000000</td>\n",
       "      <td>7.000000</td>\n",
       "      <td>6736.000000</td>\n",
       "      <td>6725.500000</td>\n",
       "      <td>31.500000</td>\n",
       "    </tr>\n",
       "    <tr>\n",
       "      <th>75%</th>\n",
       "      <td>1381.250000</td>\n",
       "      <td>1.0</td>\n",
       "      <td>1.0</td>\n",
       "      <td>1.000000</td>\n",
       "      <td>1.000000</td>\n",
       "      <td>4.000000</td>\n",
       "      <td>15574.000000</td>\n",
       "      <td>177.500000</td>\n",
       "      <td>242.750000</td>\n",
       "      <td>27.000000</td>\n",
       "      <td>16152.000000</td>\n",
       "      <td>16152.000000</td>\n",
       "      <td>46.250000</td>\n",
       "    </tr>\n",
       "    <tr>\n",
       "      <th>max</th>\n",
       "      <td>52318.000000</td>\n",
       "      <td>1.0</td>\n",
       "      <td>1.0</td>\n",
       "      <td>1.000000</td>\n",
       "      <td>1.000000</td>\n",
       "      <td>4.000000</td>\n",
       "      <td>103616.000000</td>\n",
       "      <td>64400.000000</td>\n",
       "      <td>10054.000000</td>\n",
       "      <td>728.000000</td>\n",
       "      <td>155934.000000</td>\n",
       "      <td>155934.000000</td>\n",
       "      <td>78.000000</td>\n",
       "    </tr>\n",
       "  </tbody>\n",
       "</table>\n",
       "</div>"
      ],
      "text/plain": [
       "           positive  positiveScore  negativeScore  negativeRegularScore  \\\n",
       "count     56.000000           52.0           52.0             52.000000   \n",
       "mean    2111.321429            1.0            1.0              0.846154   \n",
       "std     7072.655246            0.0            0.0              0.364321   \n",
       "min        0.000000            1.0            1.0              0.000000   \n",
       "25%      190.000000            1.0            1.0              1.000000   \n",
       "50%      509.000000            1.0            1.0              1.000000   \n",
       "75%     1381.250000            1.0            1.0              1.000000   \n",
       "max    52318.000000            1.0            1.0              1.000000   \n",
       "\n",
       "       commercialScore      score       negative       pending  hospitalized  \\\n",
       "count        52.000000  52.000000      54.000000     12.000000     36.000000   \n",
       "mean          0.750000   3.596154   11434.629630   5476.000000    464.694444   \n",
       "std           0.437237   0.602596   16195.776603  18557.670612   1664.277257   \n",
       "min           0.000000   2.000000      36.000000      0.000000      1.000000   \n",
       "25%           0.750000   3.000000    2646.250000      0.750000     23.250000   \n",
       "50%           1.000000   4.000000    7142.000000     13.500000     93.000000   \n",
       "75%           1.000000   4.000000   15574.000000    177.500000    242.750000   \n",
       "max           1.000000   4.000000  103616.000000  64400.000000  10054.000000   \n",
       "\n",
       "            death          total  totalTestResults       fips  \n",
       "count   54.000000      56.000000         56.000000  56.000000  \n",
       "mean    36.388889   14311.000000      13137.571429  32.535714  \n",
       "std    103.266173   24595.067304      22432.365240  19.075891  \n",
       "min      0.000000       0.000000          0.000000   1.000000  \n",
       "25%      2.000000    2834.000000       2834.000000  17.750000  \n",
       "50%      7.000000    6736.000000       6725.500000  31.500000  \n",
       "75%     27.000000   16152.000000      16152.000000  46.250000  \n",
       "max    728.000000  155934.000000     155934.000000  78.000000  "
      ]
     },
     "execution_count": 42,
     "metadata": {},
     "output_type": "execute_result"
    }
   ],
   "source": [
    "df.describe()"
   ]
  },
  {
   "cell_type": "code",
   "execution_count": 22,
   "metadata": {},
   "outputs": [],
   "source": [
    "import sklearn"
   ]
  },
  {
   "cell_type": "code",
   "execution_count": 23,
   "metadata": {},
   "outputs": [],
   "source": [
    "from sklearn.model_selection import train_test_split"
   ]
  },
  {
   "cell_type": "code",
   "execution_count": 28,
   "metadata": {},
   "outputs": [],
   "source": [
    "train,test=train_test_split(df, test_size=0.2)"
   ]
  },
  {
   "cell_type": "code",
   "execution_count": 30,
   "metadata": {},
   "outputs": [
    {
     "data": {
      "text/html": [
       "<div>\n",
       "<style scoped>\n",
       "    .dataframe tbody tr th:only-of-type {\n",
       "        vertical-align: middle;\n",
       "    }\n",
       "\n",
       "    .dataframe tbody tr th {\n",
       "        vertical-align: top;\n",
       "    }\n",
       "\n",
       "    .dataframe thead th {\n",
       "        text-align: right;\n",
       "    }\n",
       "</style>\n",
       "<table border=\"1\" class=\"dataframe\">\n",
       "  <thead>\n",
       "    <tr style=\"text-align: right;\">\n",
       "      <th></th>\n",
       "      <th>state</th>\n",
       "      <th>positive</th>\n",
       "      <th>positiveScore</th>\n",
       "      <th>negativeScore</th>\n",
       "      <th>negativeRegularScore</th>\n",
       "      <th>commercialScore</th>\n",
       "      <th>grade</th>\n",
       "      <th>score</th>\n",
       "      <th>negative</th>\n",
       "      <th>pending</th>\n",
       "      <th>hospitalized</th>\n",
       "      <th>death</th>\n",
       "      <th>total</th>\n",
       "      <th>lastUpdateEt</th>\n",
       "      <th>checkTimeEt</th>\n",
       "      <th>totalTestResults</th>\n",
       "      <th>fips</th>\n",
       "      <th>dateModified</th>\n",
       "      <th>dateChecked</th>\n",
       "      <th>notes</th>\n",
       "    </tr>\n",
       "  </thead>\n",
       "  <tbody>\n",
       "    <tr>\n",
       "      <th>52</th>\n",
       "      <td>AS</td>\n",
       "      <td>0</td>\n",
       "      <td>NaN</td>\n",
       "      <td>NaN</td>\n",
       "      <td>NaN</td>\n",
       "      <td>NaN</td>\n",
       "      <td>NaN</td>\n",
       "      <td>NaN</td>\n",
       "      <td>NaN</td>\n",
       "      <td>0.0</td>\n",
       "      <td>NaN</td>\n",
       "      <td>0.0</td>\n",
       "      <td>0</td>\n",
       "      <td>3/27 00:00</td>\n",
       "      <td>3/28 14:20</td>\n",
       "      <td>0</td>\n",
       "      <td>60</td>\n",
       "      <td>2020-03-27T04:00:00Z</td>\n",
       "      <td>2020-03-28T18:20:00Z</td>\n",
       "      <td>Please stop using the \"total\" field. Use \"tota...</td>\n",
       "    </tr>\n",
       "    <tr>\n",
       "      <th>24</th>\n",
       "      <td>MO</td>\n",
       "      <td>838</td>\n",
       "      <td>1.0</td>\n",
       "      <td>1.0</td>\n",
       "      <td>0.0</td>\n",
       "      <td>0.0</td>\n",
       "      <td>C</td>\n",
       "      <td>2.0</td>\n",
       "      <td>10082.0</td>\n",
       "      <td>NaN</td>\n",
       "      <td>NaN</td>\n",
       "      <td>10.0</td>\n",
       "      <td>10920</td>\n",
       "      <td>3/28 15:00</td>\n",
       "      <td>3/28 16:23</td>\n",
       "      <td>10920</td>\n",
       "      <td>29</td>\n",
       "      <td>2020-03-28T19:00:00Z</td>\n",
       "      <td>2020-03-28T20:23:00Z</td>\n",
       "      <td>Please stop using the \"total\" field. Use \"tota...</td>\n",
       "    </tr>\n",
       "    <tr>\n",
       "      <th>12</th>\n",
       "      <td>IA</td>\n",
       "      <td>298</td>\n",
       "      <td>1.0</td>\n",
       "      <td>1.0</td>\n",
       "      <td>0.0</td>\n",
       "      <td>0.0</td>\n",
       "      <td>C</td>\n",
       "      <td>2.0</td>\n",
       "      <td>4375.0</td>\n",
       "      <td>NaN</td>\n",
       "      <td>61.0</td>\n",
       "      <td>3.0</td>\n",
       "      <td>4673</td>\n",
       "      <td>3/28 00:00</td>\n",
       "      <td>3/28 14:57</td>\n",
       "      <td>4673</td>\n",
       "      <td>19</td>\n",
       "      <td>2020-03-28T04:00:00Z</td>\n",
       "      <td>2020-03-28T18:57:00Z</td>\n",
       "      <td>Please stop using the \"total\" field. Use \"tota...</td>\n",
       "    </tr>\n",
       "    <tr>\n",
       "      <th>41</th>\n",
       "      <td>SD</td>\n",
       "      <td>68</td>\n",
       "      <td>1.0</td>\n",
       "      <td>1.0</td>\n",
       "      <td>1.0</td>\n",
       "      <td>1.0</td>\n",
       "      <td>A</td>\n",
       "      <td>4.0</td>\n",
       "      <td>2592.0</td>\n",
       "      <td>0.0</td>\n",
       "      <td>NaN</td>\n",
       "      <td>1.0</td>\n",
       "      <td>2660</td>\n",
       "      <td>3/28 12:30</td>\n",
       "      <td>3/28 15:32</td>\n",
       "      <td>2660</td>\n",
       "      <td>46</td>\n",
       "      <td>2020-03-28T16:30:00Z</td>\n",
       "      <td>2020-03-28T19:32:00Z</td>\n",
       "      <td>Please stop using the \"total\" field. Use \"tota...</td>\n",
       "    </tr>\n",
       "    <tr>\n",
       "      <th>49</th>\n",
       "      <td>WV</td>\n",
       "      <td>96</td>\n",
       "      <td>1.0</td>\n",
       "      <td>1.0</td>\n",
       "      <td>1.0</td>\n",
       "      <td>0.0</td>\n",
       "      <td>B</td>\n",
       "      <td>3.0</td>\n",
       "      <td>2331.0</td>\n",
       "      <td>6.0</td>\n",
       "      <td>1.0</td>\n",
       "      <td>0.0</td>\n",
       "      <td>2433</td>\n",
       "      <td>3/27 00:00</td>\n",
       "      <td>3/28 14:49</td>\n",
       "      <td>2427</td>\n",
       "      <td>54</td>\n",
       "      <td>2020-03-27T04:00:00Z</td>\n",
       "      <td>2020-03-28T18:49:00Z</td>\n",
       "      <td>Please stop using the \"total\" field. Use \"tota...</td>\n",
       "    </tr>\n",
       "  </tbody>\n",
       "</table>\n",
       "</div>"
      ],
      "text/plain": [
       "   state  positive  positiveScore  negativeScore  negativeRegularScore  \\\n",
       "52    AS         0            NaN            NaN                   NaN   \n",
       "24    MO       838            1.0            1.0                   0.0   \n",
       "12    IA       298            1.0            1.0                   0.0   \n",
       "41    SD        68            1.0            1.0                   1.0   \n",
       "49    WV        96            1.0            1.0                   1.0   \n",
       "\n",
       "    commercialScore grade  score  negative  pending  hospitalized  death  \\\n",
       "52              NaN   NaN    NaN       NaN      0.0           NaN    0.0   \n",
       "24              0.0     C    2.0   10082.0      NaN           NaN   10.0   \n",
       "12              0.0     C    2.0    4375.0      NaN          61.0    3.0   \n",
       "41              1.0     A    4.0    2592.0      0.0           NaN    1.0   \n",
       "49              0.0     B    3.0    2331.0      6.0           1.0    0.0   \n",
       "\n",
       "    total lastUpdateEt checkTimeEt  totalTestResults  fips  \\\n",
       "52      0   3/27 00:00  3/28 14:20                 0    60   \n",
       "24  10920   3/28 15:00  3/28 16:23             10920    29   \n",
       "12   4673   3/28 00:00  3/28 14:57              4673    19   \n",
       "41   2660   3/28 12:30  3/28 15:32              2660    46   \n",
       "49   2433   3/27 00:00  3/28 14:49              2427    54   \n",
       "\n",
       "            dateModified           dateChecked  \\\n",
       "52  2020-03-27T04:00:00Z  2020-03-28T18:20:00Z   \n",
       "24  2020-03-28T19:00:00Z  2020-03-28T20:23:00Z   \n",
       "12  2020-03-28T04:00:00Z  2020-03-28T18:57:00Z   \n",
       "41  2020-03-28T16:30:00Z  2020-03-28T19:32:00Z   \n",
       "49  2020-03-27T04:00:00Z  2020-03-28T18:49:00Z   \n",
       "\n",
       "                                                notes  \n",
       "52  Please stop using the \"total\" field. Use \"tota...  \n",
       "24  Please stop using the \"total\" field. Use \"tota...  \n",
       "12  Please stop using the \"total\" field. Use \"tota...  \n",
       "41  Please stop using the \"total\" field. Use \"tota...  \n",
       "49  Please stop using the \"total\" field. Use \"tota...  "
      ]
     },
     "execution_count": 30,
     "metadata": {},
     "output_type": "execute_result"
    }
   ],
   "source": [
    "train.head()"
   ]
  },
  {
   "cell_type": "code",
   "execution_count": 232,
   "metadata": {},
   "outputs": [
    {
     "data": {
      "text/html": [
       "<div>\n",
       "<style scoped>\n",
       "    .dataframe tbody tr th:only-of-type {\n",
       "        vertical-align: middle;\n",
       "    }\n",
       "\n",
       "    .dataframe tbody tr th {\n",
       "        vertical-align: top;\n",
       "    }\n",
       "\n",
       "    .dataframe thead th {\n",
       "        text-align: right;\n",
       "    }\n",
       "</style>\n",
       "<table border=\"1\" class=\"dataframe\">\n",
       "  <thead>\n",
       "    <tr style=\"text-align: right;\">\n",
       "      <th></th>\n",
       "      <th>positive</th>\n",
       "      <th>positiveScore</th>\n",
       "      <th>negativeScore</th>\n",
       "      <th>negativeRegularScore</th>\n",
       "      <th>commercialScore</th>\n",
       "      <th>score</th>\n",
       "      <th>negative</th>\n",
       "      <th>pending</th>\n",
       "      <th>hospitalized</th>\n",
       "      <th>death</th>\n",
       "      <th>total</th>\n",
       "      <th>totalTestResults</th>\n",
       "      <th>fips</th>\n",
       "    </tr>\n",
       "  </thead>\n",
       "  <tbody>\n",
       "    <tr>\n",
       "      <th>count</th>\n",
       "      <td>56.000000</td>\n",
       "      <td>56.0</td>\n",
       "      <td>56.0</td>\n",
       "      <td>56.000000</td>\n",
       "      <td>56.000000</td>\n",
       "      <td>56.000000</td>\n",
       "      <td>56.000000</td>\n",
       "      <td>54.000000</td>\n",
       "      <td>56.000000</td>\n",
       "      <td>56.000000</td>\n",
       "      <td>56.000000</td>\n",
       "      <td>56.000000</td>\n",
       "      <td>56.000000</td>\n",
       "    </tr>\n",
       "    <tr>\n",
       "      <th>mean</th>\n",
       "      <td>2111.321429</td>\n",
       "      <td>1.0</td>\n",
       "      <td>1.0</td>\n",
       "      <td>0.857143</td>\n",
       "      <td>0.767857</td>\n",
       "      <td>3.625000</td>\n",
       "      <td>11044.785714</td>\n",
       "      <td>3649.648148</td>\n",
       "      <td>326.446429</td>\n",
       "      <td>35.714286</td>\n",
       "      <td>14311.000000</td>\n",
       "      <td>13137.571429</td>\n",
       "      <td>32.535714</td>\n",
       "    </tr>\n",
       "    <tr>\n",
       "      <th>std</th>\n",
       "      <td>7072.655246</td>\n",
       "      <td>0.0</td>\n",
       "      <td>0.0</td>\n",
       "      <td>0.353094</td>\n",
       "      <td>0.426021</td>\n",
       "      <td>0.589684</td>\n",
       "      <td>16029.493547</td>\n",
       "      <td>14873.213419</td>\n",
       "      <td>1341.645488</td>\n",
       "      <td>101.481698</td>\n",
       "      <td>24595.067304</td>\n",
       "      <td>22432.365240</td>\n",
       "      <td>19.075891</td>\n",
       "    </tr>\n",
       "    <tr>\n",
       "      <th>min</th>\n",
       "      <td>0.000000</td>\n",
       "      <td>1.0</td>\n",
       "      <td>1.0</td>\n",
       "      <td>0.000000</td>\n",
       "      <td>0.000000</td>\n",
       "      <td>2.000000</td>\n",
       "      <td>36.000000</td>\n",
       "      <td>0.000000</td>\n",
       "      <td>1.000000</td>\n",
       "      <td>0.000000</td>\n",
       "      <td>0.000000</td>\n",
       "      <td>0.000000</td>\n",
       "      <td>1.000000</td>\n",
       "    </tr>\n",
       "    <tr>\n",
       "      <th>25%</th>\n",
       "      <td>190.000000</td>\n",
       "      <td>1.0</td>\n",
       "      <td>1.0</td>\n",
       "      <td>1.000000</td>\n",
       "      <td>1.000000</td>\n",
       "      <td>3.000000</td>\n",
       "      <td>2522.000000</td>\n",
       "      <td>1.000000</td>\n",
       "      <td>17.000000</td>\n",
       "      <td>2.000000</td>\n",
       "      <td>2834.000000</td>\n",
       "      <td>2834.000000</td>\n",
       "      <td>17.750000</td>\n",
       "    </tr>\n",
       "    <tr>\n",
       "      <th>50%</th>\n",
       "      <td>509.000000</td>\n",
       "      <td>1.0</td>\n",
       "      <td>1.0</td>\n",
       "      <td>1.000000</td>\n",
       "      <td>1.000000</td>\n",
       "      <td>4.000000</td>\n",
       "      <td>5965.000000</td>\n",
       "      <td>3.000000</td>\n",
       "      <td>57.000000</td>\n",
       "      <td>7.000000</td>\n",
       "      <td>6736.000000</td>\n",
       "      <td>6725.500000</td>\n",
       "      <td>31.500000</td>\n",
       "    </tr>\n",
       "    <tr>\n",
       "      <th>75%</th>\n",
       "      <td>1381.250000</td>\n",
       "      <td>1.0</td>\n",
       "      <td>1.0</td>\n",
       "      <td>1.000000</td>\n",
       "      <td>1.000000</td>\n",
       "      <td>4.000000</td>\n",
       "      <td>15346.000000</td>\n",
       "      <td>138.000000</td>\n",
       "      <td>220.750000</td>\n",
       "      <td>28.000000</td>\n",
       "      <td>16152.000000</td>\n",
       "      <td>16152.000000</td>\n",
       "      <td>46.250000</td>\n",
       "    </tr>\n",
       "    <tr>\n",
       "      <th>max</th>\n",
       "      <td>52318.000000</td>\n",
       "      <td>1.0</td>\n",
       "      <td>1.0</td>\n",
       "      <td>1.000000</td>\n",
       "      <td>1.000000</td>\n",
       "      <td>4.000000</td>\n",
       "      <td>103616.000000</td>\n",
       "      <td>64400.000000</td>\n",
       "      <td>10054.000000</td>\n",
       "      <td>728.000000</td>\n",
       "      <td>155934.000000</td>\n",
       "      <td>155934.000000</td>\n",
       "      <td>78.000000</td>\n",
       "    </tr>\n",
       "  </tbody>\n",
       "</table>\n",
       "</div>"
      ],
      "text/plain": [
       "           positive  positiveScore  negativeScore  negativeRegularScore  \\\n",
       "count     56.000000           56.0           56.0             56.000000   \n",
       "mean    2111.321429            1.0            1.0              0.857143   \n",
       "std     7072.655246            0.0            0.0              0.353094   \n",
       "min        0.000000            1.0            1.0              0.000000   \n",
       "25%      190.000000            1.0            1.0              1.000000   \n",
       "50%      509.000000            1.0            1.0              1.000000   \n",
       "75%     1381.250000            1.0            1.0              1.000000   \n",
       "max    52318.000000            1.0            1.0              1.000000   \n",
       "\n",
       "       commercialScore      score       negative       pending  hospitalized  \\\n",
       "count        56.000000  56.000000      56.000000     54.000000     56.000000   \n",
       "mean          0.767857   3.625000   11044.785714   3649.648148    326.446429   \n",
       "std           0.426021   0.589684   16029.493547  14873.213419   1341.645488   \n",
       "min           0.000000   2.000000      36.000000      0.000000      1.000000   \n",
       "25%           1.000000   3.000000    2522.000000      1.000000     17.000000   \n",
       "50%           1.000000   4.000000    5965.000000      3.000000     57.000000   \n",
       "75%           1.000000   4.000000   15346.000000    138.000000    220.750000   \n",
       "max           1.000000   4.000000  103616.000000  64400.000000  10054.000000   \n",
       "\n",
       "            death          total  totalTestResults       fips  \n",
       "count   56.000000      56.000000         56.000000  56.000000  \n",
       "mean    35.714286   14311.000000      13137.571429  32.535714  \n",
       "std    101.481698   24595.067304      22432.365240  19.075891  \n",
       "min      0.000000       0.000000          0.000000   1.000000  \n",
       "25%      2.000000    2834.000000       2834.000000  17.750000  \n",
       "50%      7.000000    6736.000000       6725.500000  31.500000  \n",
       "75%     28.000000   16152.000000      16152.000000  46.250000  \n",
       "max    728.000000  155934.000000     155934.000000  78.000000  "
      ]
     },
     "execution_count": 232,
     "metadata": {},
     "output_type": "execute_result"
    }
   ],
   "source": [
    "df.describe()"
   ]
  },
  {
   "cell_type": "code",
   "execution_count": 246,
   "metadata": {},
   "outputs": [
    {
     "data": {
      "image/png": "[encoded data removed]",
      "text/plain": [
       "<Figure size 432x288 with 1 Axes>"
      ]
     },
     "metadata": {},
     "output_type": "display_data"
    }
   ],
   "source": [
    "df.plot(x='hospitalized', y='death', style='o')\n",
    "plt.title(\"hospitalized V/S death\")\n",
    "plt.xlabel(\"hospitalized\")\n",
    "plt.ylabel(\"death\")\n",
    "plt.show()"
   ]
  },
  {
   "cell_type": "code",
   "execution_count": 262,
   "metadata": {},
   "outputs": [
    {
     "name": "stderr",
     "output_type": "stream",
     "text": [
      "C:\\Users\\vyass\\Anaconda3\\lib\\site-packages\\matplotlib\\axes\\_axes.py:6462: UserWarning: The 'normed' kwarg is deprecated, and has been replaced by the 'density' kwarg.\n",
      "  warnings.warn(\"The 'normed' kwarg is deprecated, and has been \"\n"
     ]
    },
    {
     "data": {
      "text/plain": [
       "<matplotlib.axes._subplots.AxesSubplot at 0x276b5dae4e0>"
      ]
     },
     "execution_count": 262,
     "metadata": {},
     "output_type": "execute_result"
    },
    {
     "data": {
      "image/png": "[encoded data removed]",
      "text/plain": [
       "<Figure size 1080x576 with 1 Axes>"
      ]
     },
     "metadata": {},
     "output_type": "display_data"
    }
   ],
   "source": [
    "import seaborn as seabornInstance\n",
    "plt.figure(figsize=(15,8))\n",
    "plt.tight_layout()\n",
    "seabornInstance.distplot(df['hospitalized'])"
   ]
  },
  {
   "cell_type": "code",
   "execution_count": 127,
   "metadata": {},
   "outputs": [
    {
     "name": "stdout",
     "output_type": "stream",
     "text": [
      "(56,)\n",
      "(56,)\n"
     ]
    }
   ],
   "source": [
    "X=df['positive']\n",
    "y=df['total']\n",
    "print(X.shape)\n",
    "print(y.shape)"
   ]
  },
  {
   "cell_type": "code",
   "execution_count": 248,
   "metadata": {},
   "outputs": [
    {
     "name": "stdout",
     "output_type": "stream",
     "text": [
      "[13.45446629]\n",
      "[[0.0717503]]\n"
     ]
    }
   ],
   "source": [
    "X=df['hospitalized'].values.reshape(-1,1)\n",
    "y=df['death'].values.reshape(-1,1)\n",
    "X_train,X_test,y_train,y_test=train_test_split(X, y, test_size=0.2)\n",
    "regressor=LinearRegression()\n",
    "regressor.fit(X_train,y_train)\n",
    "print(regressor.intercept_)\n",
    "print(regressor.coef_)\n",
    "y_pred=regressor.predict(X_test)"
   ]
  },
  {
   "cell_type": "code",
   "execution_count": 249,
   "metadata": {},
   "outputs": [
    {
     "data": {
      "text/html": [
       "<div>\n",
       "<style scoped>\n",
       "    .dataframe tbody tr th:only-of-type {\n",
       "        vertical-align: middle;\n",
       "    }\n",
       "\n",
       "    .dataframe tbody tr th {\n",
       "        vertical-align: top;\n",
       "    }\n",
       "\n",
       "    .dataframe thead th {\n",
       "        text-align: right;\n",
       "    }\n",
       "</style>\n",
       "<table border=\"1\" class=\"dataframe\">\n",
       "  <thead>\n",
       "    <tr style=\"text-align: right;\">\n",
       "      <th></th>\n",
       "      <th>Actual</th>\n",
       "      <th>Predicted</th>\n",
       "    </tr>\n",
       "  </thead>\n",
       "  <tbody>\n",
       "    <tr>\n",
       "      <th>0</th>\n",
       "      <td>13.0</td>\n",
       "      <td>21.849251</td>\n",
       "    </tr>\n",
       "    <tr>\n",
       "      <th>1</th>\n",
       "      <td>5.0</td>\n",
       "      <td>15.391724</td>\n",
       "    </tr>\n",
       "    <tr>\n",
       "      <th>2</th>\n",
       "      <td>1.0</td>\n",
       "      <td>14.602471</td>\n",
       "    </tr>\n",
       "    <tr>\n",
       "      <th>3</th>\n",
       "      <td>10.0</td>\n",
       "      <td>14.674221</td>\n",
       "    </tr>\n",
       "    <tr>\n",
       "      <th>4</th>\n",
       "      <td>69.0</td>\n",
       "      <td>57.724399</td>\n",
       "    </tr>\n",
       "    <tr>\n",
       "      <th>5</th>\n",
       "      <td>101.0</td>\n",
       "      <td>87.644273</td>\n",
       "    </tr>\n",
       "    <tr>\n",
       "      <th>6</th>\n",
       "      <td>34.0</td>\n",
       "      <td>62.388169</td>\n",
       "    </tr>\n",
       "    <tr>\n",
       "      <th>7</th>\n",
       "      <td>27.0</td>\n",
       "      <td>25.867268</td>\n",
       "    </tr>\n",
       "    <tr>\n",
       "      <th>8</th>\n",
       "      <td>6.0</td>\n",
       "      <td>21.921001</td>\n",
       "    </tr>\n",
       "    <tr>\n",
       "      <th>9</th>\n",
       "      <td>27.0</td>\n",
       "      <td>21.921001</td>\n",
       "    </tr>\n",
       "    <tr>\n",
       "      <th>10</th>\n",
       "      <td>0.0</td>\n",
       "      <td>14.530721</td>\n",
       "    </tr>\n",
       "    <tr>\n",
       "      <th>11</th>\n",
       "      <td>31.0</td>\n",
       "      <td>30.602787</td>\n",
       "    </tr>\n",
       "  </tbody>\n",
       "</table>\n",
       "</div>"
      ],
      "text/plain": [
       "    Actual  Predicted\n",
       "0     13.0  21.849251\n",
       "1      5.0  15.391724\n",
       "2      1.0  14.602471\n",
       "3     10.0  14.674221\n",
       "4     69.0  57.724399\n",
       "5    101.0  87.644273\n",
       "6     34.0  62.388169\n",
       "7     27.0  25.867268\n",
       "8      6.0  21.921001\n",
       "9     27.0  21.921001\n",
       "10     0.0  14.530721\n",
       "11    31.0  30.602787"
      ]
     },
     "execution_count": 249,
     "metadata": {},
     "output_type": "execute_result"
    }
   ],
   "source": [
    "df1=pd.DataFrame({'Actual': y_test.flatten(), 'Predicted': y_pred.flatten()})\n",
    "df1"
   ]
  },
  {
   "cell_type": "code",
   "execution_count": 250,
   "metadata": {},
   "outputs": [
    {
     "data": {
      "image/png": "[encoded data removed]",
      "text/plain": [
       "<Figure size 432x288 with 1 Axes>"
      ]
     },
     "metadata": {},
     "output_type": "display_data"
    }
   ],
   "source": [
    "plt.scatter(X_test,y_test,color='gray')\n",
    "plt.plot(X_test,y_pred,color='red',linewidth=2)\n",
    "plt.show()"
   ]
  },
  {
   "cell_type": "code",
   "execution_count": 267,
   "metadata": {},
   "outputs": [
    {
     "data": {
      "image/png": "[encoded data removed]",
      "text/plain": [
       "<Figure size 720x432 with 1 Axes>"
      ]
     },
     "metadata": {},
     "output_type": "display_data"
    }
   ],
   "source": [
    "df1\n",
    "df1.plot(kind='bar',figsize=(10,6))\n",
    "plt.grid(which='major',linestyle='-', linewidth=0.5,color='green')\n",
    "plt.grid(which='minor',linestyle=':',linewidth=0.5,color='black')\n",
    "plt.show()"
   ]
  },
  {
   "cell_type": "code",
   "execution_count": 244,
   "metadata": {},
   "outputs": [
    {
     "data": {
      "text/plain": [
       "11413.89531781937"
      ]
     },
     "execution_count": 244,
     "metadata": {},
     "output_type": "execute_result"
    }
   ],
   "source": [
    "from sklearn import metrics\n",
    "np.sqrt(metrics.mean_squared_error(y_test,y_pred))"
   ]
  },
  {
   "cell_type": "code",
   "execution_count": 245,
   "metadata": {},
   "outputs": [
    {
     "name": "stdout",
     "output_type": "stream",
     "text": [
      "4452.085297684364\n",
      "130277006.32613893\n",
      "11413.89531781937\n"
     ]
    }
   ],
   "source": [
    "print(metrics.mean_absolute_error(y_test,y_pred))\n",
    "print(metrics.mean_squared_error(y_test,y_pred))\n",
    "print(np.sqrt(metrics.mean_squared_error(y_test,y_pred)))"
   ]
  },
  {
   "cell_type": "code",
   "execution_count": 268,
   "metadata": {},
   "outputs": [
    {
     "data": {
      "text/html": [
       "<div>\n",
       "<style scoped>\n",
       "    .dataframe tbody tr th:only-of-type {\n",
       "        vertical-align: middle;\n",
       "    }\n",
       "\n",
       "    .dataframe tbody tr th {\n",
       "        vertical-align: top;\n",
       "    }\n",
       "\n",
       "    .dataframe thead th {\n",
       "        text-align: right;\n",
       "    }\n",
       "</style>\n",
       "<table border=\"1\" class=\"dataframe\">\n",
       "  <thead>\n",
       "    <tr style=\"text-align: right;\">\n",
       "      <th></th>\n",
       "      <th>dateChecked</th>\n",
       "    </tr>\n",
       "  </thead>\n",
       "  <tbody>\n",
       "    <tr>\n",
       "      <th>0</th>\n",
       "      <td>2020-03-28T17:22:00Z</td>\n",
       "    </tr>\n",
       "    <tr>\n",
       "      <th>1</th>\n",
       "      <td>2020-03-28T20:55:00Z</td>\n",
       "    </tr>\n",
       "    <tr>\n",
       "      <th>2</th>\n",
       "      <td>2020-03-28T20:40:00Z</td>\n",
       "    </tr>\n",
       "    <tr>\n",
       "      <th>3</th>\n",
       "      <td>2020-03-28T18:21:00Z</td>\n",
       "    </tr>\n",
       "    <tr>\n",
       "      <th>4</th>\n",
       "      <td>2020-03-28T20:45:00Z</td>\n",
       "    </tr>\n",
       "  </tbody>\n",
       "</table>\n",
       "</div>"
      ],
      "text/plain": [
       "            dateChecked\n",
       "0  2020-03-28T17:22:00Z\n",
       "1  2020-03-28T20:55:00Z\n",
       "2  2020-03-28T20:40:00Z\n",
       "3  2020-03-28T18:21:00Z\n",
       "4  2020-03-28T20:45:00Z"
      ]
     },
     "execution_count": 268,
     "metadata": {},
     "output_type": "execute_result"
    }
   ],
   "source": [
    "df[['dateChecked']].head()"
   ]
  },
  {
   "cell_type": "code",
   "execution_count": 269,
   "metadata": {},
   "outputs": [
    {
     "data": {
      "text/plain": [
       "<matplotlib.axes._subplots.AxesSubplot at 0x276ba2eacf8>"
      ]
     },
     "execution_count": 269,
     "metadata": {},
     "output_type": "execute_result"
    },
    {
     "data": {
      "image/png": "[encoded data removed]",
      "text/plain": [
       "<Figure size 432x288 with 1 Axes>"
      ]
     },
     "metadata": {},
     "output_type": "display_data"
    }
   ],
   "source": [
    "df.plot(x='dateChecked',y='positive')"
   ]
  }
 ],
 "metadata": {
  "kernelspec": {
   "display_name": "Python 3",
   "language": "python",
   "name": "python3"
  },
  "language_info": {
   "codemirror_mode": {
    "name": "ipython",
    "version": 3
   },
   "file_extension": ".py",
   "mimetype": "text/x-python",
   "name": "python",
   "nbconvert_exporter": "python",
   "pygments_lexer": "ipython3",
   "version": "3.6.5"
  }
 },
 "nbformat": 4,
 "nbformat_minor": 2
}
